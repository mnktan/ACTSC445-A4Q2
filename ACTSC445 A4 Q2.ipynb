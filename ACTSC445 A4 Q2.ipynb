{
 "cells": [
  {
   "cell_type": "code",
   "execution_count": 63,
   "metadata": {},
   "outputs": [
    {
     "data": {
      "image/png": "[encoded data removed]",
      "text/plain": [
       "<Figure size 432x288 with 1 Axes>"
      ]
     },
     "metadata": {
      "needs_background": "light"
     },
     "output_type": "display_data"
    }
   ],
   "source": [
    "import numpy as np\n",
    "import math\n",
    "import random\n",
    "import matplotlib.pyplot as plt\n",
    "import sys\n",
    "from scipy.stats import norm\n",
    "np.set_printoptions(threshold=sys.maxsize)\n",
    "np.set_printoptions(suppress=True)\n",
    "\n",
    "\n",
    "### Question 2 ###\n",
    "\n",
    "# part c)\n",
    "\n",
    "port_vec = np.ones(2000)\n",
    "\n",
    "# step 1 \n",
    "x1 = np.random.uniform(0,1,2000)\n",
    "x2 = np.random.uniform(0,1,2000)\n",
    "\n",
    "# step 2\n",
    "s = np.arange(0.01,1,0.0001)\n",
    "\n",
    "def getInf():\n",
    "    cInf = np.zeros(2000);\n",
    "    for i in np.arange(0,2000):\n",
    "        cinv = (x1[i]**(-3)) * ((x1[i]**(-2)) + (s**(-2)) - 1)**(-3/2);\n",
    "        cinvInf = cinv[cinv >= x2[i]];\n",
    "        cInf[i] = np.min(cinvInf);\n",
    "    \n",
    "    return cInf\n",
    "\n",
    "cInfVals = getInf();\n",
    "\n",
    "# step 3\n",
    "X1 = -10*np.log(1 - x1)\n",
    "X2 = (1 - cInfVals)**(-1/2)\n",
    "port_val = X1 + X2;\n",
    "plt.hist(port_val)\n",
    "plt.title(\"Portfolio Terminal Value, 2000 simulations\")\n",
    "plt.xlabel(\"Y\")\n",
    "plt.ylabel(\"Frequency\")\n",
    "plt.show()\n",
    "\n",
    "\n",
    "\n"
   ]
  },
  {
   "cell_type": "code",
   "execution_count": null,
   "metadata": {},
   "outputs": [],
   "source": []
  }
 ],
 "metadata": {
  "kernelspec": {
   "display_name": "Python 3",
   "language": "python",
   "name": "python3"
  },
  "language_info": {
   "codemirror_mode": {
    "name": "ipython",
    "version": 3
   },
   "file_extension": ".py",
   "mimetype": "text/x-python",
   "name": "python",
   "nbconvert_exporter": "python",
   "pygments_lexer": "ipython3",
   "version": "3.8.5"
  }
 },
 "nbformat": 4,
 "nbformat_minor": 4
}
